{
 "cells": [
  {
   "cell_type": "code",
   "execution_count": 1,
   "metadata": {
    "_cell_guid": "96929ab3-acd4-4d4a-8347-eb17b556aed5",
    "_uuid": "e871b8d687710d2aaa984a61043d0f2289d29bda"
   },
   "outputs": [],
   "source": [
    "# necessary imports\n",
    "%matplotlib inline\n",
    "import os\n",
    "import numpy as np\n",
    "import pandas as pd\n",
    "import matplotlib.pyplot as plt\n",
    "\n",
    "\n",
    "from sklearn.model_selection import cross_val_score\n",
    "\n",
    "np.random.seed(19)"
   ]
  },
  {
   "cell_type": "code",
   "execution_count": 2,
   "metadata": {
    "_cell_guid": "4d0140c2-0ee9-4b5c-9940-a880b3045203",
    "_uuid": "29feca49efeaa4304fd8a119945c0350114f7beb"
   },
   "outputs": [],
   "source": [
    "data_folder = \"./\"\n",
    "#data_folder = \"./data\"\n",
    "data = pd.read_csv(os.path.join(data_folder, \"mushrooms.csv\"))"
   ]
  },
  {
   "cell_type": "code",
   "execution_count": null,
   "metadata": {
    "_cell_guid": "48bcc4ca-ed3b-4a14-8ba8-a495888c112e",
    "_uuid": "5bb49c98bed4ae84bd490608bf0ea049f5b6a01c",
    "collapsed": true,
    "jupyter": {
     "outputs_hidden": true
    }
   },
   "outputs": [],
   "source": []
  },
  {
   "cell_type": "markdown",
   "metadata": {
    "_cell_guid": "f7f61792-0608-47ef-8cb9-039e583210b6",
    "_uuid": "ab25e3f6500343844235bdfebb07b5046890a619"
   },
   "source": [
    "### 数据预处理"
   ]
  },
  {
   "cell_type": "code",
   "execution_count": 3,
   "metadata": {
    "_cell_guid": "8e7021a4-cf16-44a3-84f3-6b85053253f1",
    "_uuid": "00014e3bbc888b3d53d096679b8d1c2a65d80c19"
   },
   "outputs": [],
   "source": [
    "data['class'] = data.apply(lambda row: -1 if row[0] == 'e' else 1, axis=1)"
   ]
  },
  {
   "cell_type": "code",
   "execution_count": 4,
   "metadata": {
    "_cell_guid": "872582a7-a494-4262-aa51-256a8b710cbd",
    "_uuid": "9719997d48f0442352c1a0b7c444630473ff546e"
   },
   "outputs": [],
   "source": [
    "def dummies(data, columns=['pclass','name_title','embarked', 'sex']):\n",
    "    for col in columns:\n",
    "        data[col] = data[col].apply(lambda x: str(x))\n",
    "        new_cols = [col + '_' + i for i in data[col].unique()]\n",
    "        data = pd.concat([data, pd.get_dummies(data[col], prefix=col)[new_cols]], axis=1)\n",
    "        del data[col]\n",
    "    return data"
   ]
  },
  {
   "cell_type": "code",
   "execution_count": 5,
   "metadata": {
    "_cell_guid": "6d308bcb-50af-4957-a809-821e74e46423",
    "_uuid": "3285c444c84b0c9625ed0a1b9eb3e1b564c71b2a"
   },
   "outputs": [],
   "source": [
    "target = 'class'\n",
    "cols = data.columns.drop(target)"
   ]
  },
  {
   "cell_type": "code",
   "execution_count": 6,
   "metadata": {
    "_cell_guid": "57cb5927-afd9-4fcf-851c-00da9c3e93a9",
    "_uuid": "db8752f4b2e6a7c516db19590a78b1a2d81f9f1f"
   },
   "outputs": [],
   "source": [
    "data_set = dummies(data, columns = cols)"
   ]
  },
  {
   "cell_type": "code",
   "execution_count": null,
   "metadata": {
    "_cell_guid": "ccb63d26-327a-4f08-82d1-b15389475277",
    "_uuid": "b4b8ea045c521c87aa8a4b41bdfae5ff8fbd291e",
    "collapsed": true,
    "jupyter": {
     "outputs_hidden": true
    }
   },
   "outputs": [],
   "source": []
  },
  {
   "cell_type": "code",
   "execution_count": 7,
   "metadata": {
    "_cell_guid": "7a5470ae-0f97-4886-bf7d-9b0e3a70c868",
    "_uuid": "83921691ee95f9a18f72011265fac48c656d0cf1"
   },
   "outputs": [],
   "source": [
    "from sklearn.model_selection import train_test_split\n",
    "train_data, test_data = train_test_split(data_set, test_size=0.3)"
   ]
  },
  {
   "cell_type": "code",
   "execution_count": 8,
   "metadata": {
    "_cell_guid": "debcc3d2-f24c-4deb-8dba-fda66b55b723",
    "_uuid": "683c3bb72ddcefcffb76a8f128f1ea0fe988c0d4"
   },
   "outputs": [],
   "source": [
    "trainX, trainY = train_data[train_data.columns[1:]], pd.DataFrame(train_data[target])\n",
    "testX, testY = test_data[test_data.columns[1:]], pd.DataFrame(test_data[target])"
   ]
  },
  {
   "cell_type": "code",
   "execution_count": null,
   "metadata": {
    "_cell_guid": "1e223e73-07d1-4c01-b65c-31b4f128c585",
    "_uuid": "c50549e6b8bf12cdbedfe78e721a5b6558eb953a",
    "collapsed": true,
    "jupyter": {
     "outputs_hidden": true
    }
   },
   "outputs": [],
   "source": []
  },
  {
   "cell_type": "code",
   "execution_count": null,
   "metadata": {
    "_cell_guid": "d7b07bd1-a513-4591-a9c1-f378c3401a14",
    "_uuid": "5b15123c75c091220a1632371ebb97f92f21d7fb",
    "collapsed": true,
    "jupyter": {
     "outputs_hidden": true
    }
   },
   "outputs": [],
   "source": []
  },
  {
   "cell_type": "markdown",
   "metadata": {
    "_cell_guid": "4378da4a-5e9a-49b3-b19e-c289ce0e950b",
    "_uuid": "92be560bf886776ea262a3fc908d67746ab7ab4b"
   },
   "source": [
    "### 基于决策树的完全手动实现adaboost"
   ]
  },
  {
   "cell_type": "code",
   "execution_count": 9,
   "metadata": {
    "_cell_guid": "7c1ce617-cfe3-4d48-839a-e4e45131ed80",
    "_uuid": "b12c8c684601c3c4f0b9110f62d689c07c05c0f5"
   },
   "outputs": [],
   "source": [
    "class TreeNode:\n",
    "    def __init__(self, is_leaf, prediction, split_feature):\n",
    "        self.is_leaf = is_leaf\n",
    "        self.prediction = prediction\n",
    "        self.split_feature = split_feature\n",
    "        self.left = None\n",
    "        self.right = None"
   ]
  },
  {
   "cell_type": "code",
   "execution_count": 10,
   "metadata": {
    "_cell_guid": "03d2b091-c3ad-46af-a38e-ff9d72b43d71",
    "_uuid": "6da4d648551362f516c48cadc15f414791e0c673"
   },
   "outputs": [],
   "source": [
    "def node_weighted_mistakes(targets_in_node, data_weights):\n",
    "    # 计算lable 为+1的所有数据的权重和\n",
    "    weight_positive = sum(data_weights[targets_in_node == +1])\n",
    "    \n",
    "    # 如果全部预测为-1，那么预测错误的数据权重等于weight_positive\n",
    "    #TODO\n",
    "    weighted_mistakes_negative = weight_positive \n",
    "    \n",
    "    # 计算lable 为+1的所有数据的权重和\n",
    "    #TODO\n",
    "    weight_negative = sum(data_weights[targets_in_node == -1])\n",
    "    \n",
    "    # 如果全部预测为+1，那么预测错误的数据权重等于weight_negative\n",
    "    #TODO\n",
    "    weighted_mistakes_positive = weight_negative\n",
    "    \n",
    "    #将加权错误和对应的预测标签一起输出\n",
    "    #TODO\n",
    "    if weighted_mistakes_negative < weighted_mistakes_positive:\n",
    "        return (weighted_mistakes_negative, -1)\n",
    "    else:\n",
    "        return (weighted_mistakes_positive, + 1)"
   ]
  },
  {
   "cell_type": "markdown",
   "metadata": {
    "_cell_guid": "e7cda07d-3521-432b-afd7-8270945fa1f5",
    "_uuid": "496f5939a0df1aba60bbb73db5d11bd26a249821"
   },
   "source": [
    "#### 阶段性测试  \n",
    "- 测试node_weighted_mistakes函数，对测试样例输出应该是(2.5,-1),表示预测错误的权重为2.5，预测结果为-1"
   ]
  },
  {
   "cell_type": "code",
   "execution_count": 11,
   "metadata": {
    "_cell_guid": "6201f654-314e-420c-a2be-a324026943c0",
    "_uuid": "51c6a337571261d05d4f4d23450e3de2787f52c3"
   },
   "outputs": [
    {
     "data": {
      "text/plain": [
       "(2.5, -1)"
      ]
     },
     "execution_count": 11,
     "metadata": {},
     "output_type": "execute_result"
    }
   ],
   "source": [
    "#test\n",
    "example_targets = np.array([-1, -1, 1, 1, 1])\n",
    "example_data_weights = np.array([1., 2., .5, 1., 1.])\n",
    "node_weighted_mistakes(example_targets, example_data_weights)"
   ]
  },
  {
   "cell_type": "markdown",
   "metadata": {
    "_cell_guid": "13e02430-629a-47e1-a256-a0c5a46605d9",
    "_uuid": "4bf5cf4c70f1297a558dd748c99fe1b20ef1309f"
   },
   "source": [
    "### 重新写best_split函数，这个时候需要用weighted error来选择最佳特征"
   ]
  },
  {
   "cell_type": "code",
   "execution_count": 12,
   "metadata": {
    "_cell_guid": "304d2de4-525d-46e4-8238-440e5f72b5f2",
    "_uuid": "1dbca1e46b8e9e67333dfb779c0f2d2509ecf8e6"
   },
   "outputs": [],
   "source": [
    "def best_split_weighted(data, features, target, data_weights):\n",
    "    # return the best feature\n",
    "    best_feature = None\n",
    "    best_error = float(\"inf\")\n",
    "    num_data_points = float(len(data))  \n",
    "\n",
    "    for feature in features:\n",
    "        \n",
    "        # 左分支对应当前特征为0的数据点\n",
    "        left_split = data[data[feature] == 0]\n",
    "        \n",
    "        # 进入左分支数据点的权重\n",
    "        left_data_weights = data_weights[data[feature] == 0]\n",
    "        \n",
    "        \n",
    "        # 右分支对应当前特征为1的数据点\n",
    "        right_split = data[data[feature] == 1] \n",
    "        \n",
    "        # 进入右分支数据点的权重\n",
    "        right_data_weights = data_weights[data[feature] == 1]\n",
    "        \n",
    "        \n",
    "        \n",
    "        # 重点！！\n",
    "        # 计算左边分支里犯了多少错 (加权结果！！)\n",
    "        left_misses, left_class = node_weighted_mistakes(left_split[target], left_data_weights)            \n",
    "\n",
    "        # 计算右边分支里犯了多少错 (加权结果！！)\n",
    "        right_misses, right_class = node_weighted_mistakes(right_split[target], right_data_weights)\n",
    "            \n",
    "        # 计算当前划分之后的分类犯错率\n",
    "        error = (left_misses + right_misses) * 1.0 / sum(data_weights)\n",
    "\n",
    "        # 更新应选特征和错误率，注意错误越低说明该特征越好\n",
    "        if error < best_error:\n",
    "            best_error = error\n",
    "            best_feature = feature\n",
    "    return best_feature"
   ]
  },
  {
   "cell_type": "markdown",
   "metadata": {
    "_cell_guid": "38fa9e40-dbb0-40a6-aedf-34b86833b99d",
    "_uuid": "ef8d91ebedfb924f5e0a8ee589aba4cf2ca2af91"
   },
   "source": [
    "#### 阶段性测试  \n",
    "- 测试best_split_weighted函数，结果应该是\"odor_n\" 这个特征"
   ]
  },
  {
   "cell_type": "code",
   "execution_count": 13,
   "metadata": {
    "_cell_guid": "bb37e1cf-6e3d-4a63-b4a4-e62d920f3f4b",
    "_uuid": "fb5802d2c93e6f1e801409cbd35591f45d77694c"
   },
   "outputs": [
    {
     "data": {
      "text/plain": [
       "'odor_n'"
      ]
     },
     "execution_count": 13,
     "metadata": {},
     "output_type": "execute_result"
    }
   ],
   "source": [
    "# test\n",
    "# 根据之前的实现，最佳特征\n",
    "features = data_set.columns.drop(target)\n",
    "example_data_weights = np.array(len(train_data) * [2])\n",
    "best_split_weighted(train_data, features, target, example_data_weights)"
   ]
  },
  {
   "cell_type": "code",
   "execution_count": 14,
   "metadata": {
    "_cell_guid": "33537740-d5fa-4cd2-b95f-49d1a410cad8",
    "_uuid": "cf0f9100674b7c7d20b48b515b72a07b253c6f06"
   },
   "outputs": [],
   "source": [
    "class TreeNode:\n",
    "    def __init__(self, is_leaf, prediction, split_feature):\n",
    "        self.is_leaf = is_leaf\n",
    "        self.prediction = prediction\n",
    "        self.split_feature = split_feature\n",
    "        self.left = None\n",
    "        self.right = None\n",
    "\n",
    "\n",
    "\n",
    "\n",
    "\n",
    "def create_leaf(target_values, data_weights):\n",
    "    # 用于创建叶子的函数\n",
    "    \n",
    "    # 初始化一个树节点\n",
    "    leaf = TreeNode(True, None, None)\n",
    "    \n",
    "    # 直接调用node_weighted_mistakes得到叶子节点的预测结果\n",
    "    weighted_error, prediction_class = node_weighted_mistakes(target_values, data_weights)\n",
    "    \n",
    "    leaf.prediction = prediction_class\n",
    "        \n",
    "    # 返回叶子        \n",
    "    return leaf "
   ]
  },
  {
   "cell_type": "code",
   "execution_count": 15,
   "metadata": {
    "_cell_guid": "c44617bd-a810-4cdd-87b1-fbb0982e4efb",
    "_uuid": "c5d3483e78cb68612145c8b9f8c64593f64544b7"
   },
   "outputs": [],
   "source": [
    "def create_weighted_tree(data, data_weights, features, target, current_depth = 0, max_depth = 10, min_error=1e-15):\n",
    "    # 拷贝以下可用特征\n",
    "    remaining_features = features[:]\n",
    "    \n",
    "    target_values = data[target]\n",
    "    \n",
    "    # termination 1\n",
    "    if node_weighted_mistakes(target_values,data_weights)[0] <= min_error:\n",
    "        print(\"Termination 1 reached.\")     \n",
    "        return create_leaf(target_values, data_weights)\n",
    "    \n",
    "    # termination 2\n",
    "    if len(remaining_features) == 0:\n",
    "        print(\"Termination 2 reached.\")    \n",
    "        return create_leaf(target_values, data_weights)    \n",
    "    \n",
    "    # termination 3\n",
    "    if current_depth >= max_depth: \n",
    "        print(\"Termination 3 reached.\")\n",
    "        return create_leaf(target_values, data_weights)\n",
    "\n",
    "    \n",
    "    \n",
    "    # 选出最佳当前划分特征\n",
    "    split_feature = best_split_weighted(data, features, target, data_weights)  # 根据加权错误来选特征\n",
    "    \n",
    "    # 选出最佳特征后，该特征为0的数据分到左边，该特征为1的数据分到右边\n",
    "    left_split = data[data[split_feature] == 0]\n",
    "    right_split = data[data[split_feature] == 1]\n",
    "    \n",
    "    # 将对应数据的权重也分到左边与右边\n",
    "    left_data_weights = data_weights[data[split_feature] == 0]\n",
    "    right_data_weights = data_weights[data[split_feature] == 1]\n",
    "    \n",
    "    \n",
    "    # 剔除已经用过的特征\n",
    "    remaining_features = remaining_features.drop(split_feature)\n",
    "    print(\"Split on feature %s. (%s, %s)\" % (split_feature, str(len(left_split)), str(len(right_split))))\n",
    "    \n",
    "    # 如果当前数据全部划分到了一边，直接创建叶子节点返回即可\n",
    "    if len(left_split) == len(data):\n",
    "        print(\"Perfect split!\")\n",
    "        return create_leaf(left_split[target],left_data_weights)\n",
    "    if len(right_split) == len(data):\n",
    "        print(\"Perfect split!\")\n",
    "        return create_leaf(right_split[target], right_data_weights)\n",
    "        \n",
    "    # 递归上面的步骤\n",
    "    left_tree = create_weighted_tree(left_split,left_data_weights, remaining_features, target, current_depth + 1, max_depth, min_error)        \n",
    "    right_tree = create_weighted_tree(right_split,right_data_weights, remaining_features,target, current_depth + 1, max_depth, min_error)\n",
    "    \n",
    "    \n",
    "    #生成当前的树节点\n",
    "    result_node = TreeNode(False, None, split_feature)\n",
    "    result_node.left = left_tree\n",
    "    result_node.right = right_tree\n",
    "    return result_node"
   ]
  },
  {
   "cell_type": "code",
   "execution_count": 16,
   "metadata": {
    "_cell_guid": "baf00c9e-d59a-46dd-a36b-51a520208df9",
    "_uuid": "32e9ba1640c7cf4955d749db64a258ebc35ca82c"
   },
   "outputs": [],
   "source": [
    "def count_leaves(tree):\n",
    "    if tree.is_leaf:\n",
    "        return 1\n",
    "    return count_leaves(tree.left) + count_leaves(tree.right)"
   ]
  },
  {
   "cell_type": "markdown",
   "metadata": {
    "_cell_guid": "93c9abcb-ed6c-4650-b10e-81bf33d74586",
    "_uuid": "c15591cd9c5eb6160536c0003bc264f66e9906e1"
   },
   "source": [
    "#### 阶段性测试  \n",
    "- 测试create_weighted_tree函数，根据测试样例，输出应该是4"
   ]
  },
  {
   "cell_type": "code",
   "execution_count": 17,
   "metadata": {
    "_cell_guid": "3bca374d-7e61-48bf-8d33-5b18d62abd82",
    "_uuid": "45b13f203abbb11bfea8ea1c62f43f02df45eafd"
   },
   "outputs": [
    {
     "name": "stdout",
     "output_type": "stream",
     "text": [
      "Split on feature odor_n. (3209, 2477)\n",
      "Split on feature stalk-root_c. (2813, 396)\n",
      "Termination 3 reached.\n",
      "Termination 3 reached.\n",
      "Split on feature spore-print-color_r. (2421, 56)\n",
      "Termination 3 reached.\n",
      "Termination 1 reached.\n"
     ]
    },
    {
     "data": {
      "text/plain": [
       "4"
      ]
     },
     "execution_count": 17,
     "metadata": {},
     "output_type": "execute_result"
    }
   ],
   "source": [
    "# test\n",
    "example_data_weights =np.array([1.0 for i in range(len(train_data))])\n",
    "small_data_decision_tree = create_weighted_tree(train_data,example_data_weights, features, target,max_depth=2)\n",
    "count_leaves(small_data_decision_tree)"
   ]
  },
  {
   "cell_type": "code",
   "execution_count": 18,
   "metadata": {
    "_cell_guid": "9498bc10-840a-4dc1-99cb-1f3e907d9d06",
    "_uuid": "7970047d597396f0830850af906cc03fabefab93"
   },
   "outputs": [],
   "source": [
    "def predict_single_data(tree, x, annotate = False):   \n",
    "    # 如果已经是叶子节点直接返回叶子节点的预测结果\n",
    "    if tree.is_leaf:\n",
    "        if annotate: \n",
    "            print(\"leaf node, predicting %s\" % tree.prediction)\n",
    "        return tree.prediction \n",
    "    else:\n",
    "        # 查询当前节点用来划分数据集的特征\n",
    "        split_feature_value = x[tree.split_feature]\n",
    "        \n",
    "        if annotate: \n",
    "            print(\"Split on %s = %s\" % (tree.split_feature, split_feature_value))\n",
    "        if split_feature_value == 0:\n",
    "            #如果数据在该特征上的值为0，交给左子树来预测\n",
    "            return predict_single_data(tree.left, x, annotate)\n",
    "        else:\n",
    "            #如果数据在该特征上的值为0，交给右子树来预测\n",
    "            return predict_single_data(tree.right, x, annotate)"
   ]
  },
  {
   "cell_type": "code",
   "execution_count": 19,
   "metadata": {
    "_cell_guid": "93fe93f0-913f-4377-ad70-95840a5b5f2d",
    "_uuid": "6df7ad85f11b4589ab64839e8a0379dc14717c09"
   },
   "outputs": [],
   "source": [
    "def evaluate_accuracy(tree, data):\n",
    "    # 将predict函数应用在数据data的每一行\n",
    "    prediction = data.apply(lambda row: predict_single_data(tree, row), axis=1)\n",
    "    # 返回正确率\n",
    "    accuracy = (prediction == data[target]).sum() * 1.0 / len(data)\n",
    "    return accuracy"
   ]
  },
  {
   "cell_type": "code",
   "execution_count": 20,
   "metadata": {
    "_cell_guid": "665b7d6a-2b6a-4f3b-814f-5706eb55c579",
    "_uuid": "641a717479574adc901348d539ac7f7f0eeb5fdd"
   },
   "outputs": [
    {
     "data": {
      "text/plain": [
       "0.9524200164068909"
      ]
     },
     "execution_count": 20,
     "metadata": {},
     "output_type": "execute_result"
    }
   ],
   "source": [
    "# test 根据测试样例，输出应该至少是0.95以上\n",
    "evaluate_accuracy(small_data_decision_tree, test_data)"
   ]
  },
  {
   "cell_type": "code",
   "execution_count": null,
   "metadata": {
    "_cell_guid": "7685d111-2dd5-4917-b9e3-b897d4f71a57",
    "_uuid": "51af2e5d2852702d0f55ef06833e590e65f93518",
    "collapsed": true,
    "jupyter": {
     "outputs_hidden": true
    }
   },
   "outputs": [],
   "source": []
  },
  {
   "cell_type": "code",
   "execution_count": null,
   "metadata": {
    "_cell_guid": "b2f310af-583a-4246-8725-59f2bb303ac6",
    "_uuid": "5235a13e4076ba68e7698d25f49405bd2511435a",
    "collapsed": true,
    "jupyter": {
     "outputs_hidden": true
    }
   },
   "outputs": [],
   "source": []
  },
  {
   "cell_type": "code",
   "execution_count": null,
   "metadata": {
    "_cell_guid": "4eb9a549-6aec-426a-8e4f-7874651be2f8",
    "_uuid": "7934dbc1b9d8d4f0347877b817a087424ffe012a",
    "collapsed": true,
    "jupyter": {
     "outputs_hidden": true
    }
   },
   "outputs": [],
   "source": []
  },
  {
   "cell_type": "code",
   "execution_count": 21,
   "metadata": {
    "_cell_guid": "69cad930-d541-4398-af3b-5a56366e0cef",
    "_uuid": "b3befc22258e344bf31359e29c653c04480de0a1"
   },
   "outputs": [],
   "source": [
    "from sklearn.base import BaseEstimator\n",
    "from sklearn.metrics import accuracy_score\n",
    "class WeightedDecisionTree(BaseEstimator):\n",
    "    \n",
    "    def __init__(self, max_depth, min_error):\n",
    "        self.max_depth = max_depth\n",
    "        self.min_error = min_error\n",
    "    \n",
    "    def fit(self, X, Y, data_weights = None):\n",
    "        \n",
    "        data_set = pd.concat([X, Y], axis=1)\n",
    "        features = X.columns\n",
    "        target = Y.columns[0]\n",
    "        self.root_node = create_weighted_tree(data_set, data_weights, features, \n",
    "                               target, current_depth = 0, max_depth = self.max_depth, min_error=self.min_error)\n",
    "        \n",
    "        \n",
    "    def predict(self, X):\n",
    "        prediction = X.apply(lambda row: predict_single_data(self.root_node, row), axis=1)\n",
    "        return prediction\n",
    "        \n",
    "        \n",
    "    def score(self, testX, testY):\n",
    "        target = testY.columns[0]\n",
    "        result = self.predict(testX)\n",
    "        return accuracy_score(testY[target], result)    "
   ]
  },
  {
   "cell_type": "code",
   "execution_count": 22,
   "metadata": {
    "_cell_guid": "e5fc9970-dbe0-4395-ba82-391b59c28c67",
    "_uuid": "2610ca57df44710778b9bc61709e23b1b2623e60"
   },
   "outputs": [],
   "source": [
    "from sklearn.base import BaseEstimator\n",
    "class MyAdaboost(BaseEstimator):\n",
    "    \n",
    "    def __init__(self, M):\n",
    "        self.M = M\n",
    "        \n",
    "    def fit(self, X, Y):\n",
    "        self.models = []\n",
    "        self.model_weights = []\n",
    "        self.target = Y.columns[0]\n",
    "        \n",
    "        N, _ = X.shape\n",
    "        alpha = np.ones(N) / N    # data weights\n",
    "        \n",
    "        for m in range(self.M):\n",
    "            tree = WeightedDecisionTree(max_depth=2, min_error=1e-15)\n",
    "            tree.fit(X, Y, data_weights=alpha)\n",
    "            prediction = tree.predict(X)\n",
    "            \n",
    "            # 计算加权错误\n",
    "            weighted_error = alpha.dot(prediction != Y[self.target])\n",
    "            \n",
    "            # 计算当前模型的权重\n",
    "            model_weight = 0.5 * (np.log(1 - weighted_error) - np.log(weighted_error))\n",
    "            \n",
    "            # 更新数据的权重\n",
    "            alpha = alpha * np.exp(-model_weight * Y[self.target] * prediction)\n",
    "            \n",
    "            # 数据权重normalize\n",
    "            alpha = alpha / alpha.sum()\n",
    "            \n",
    "            self.models.append(tree)\n",
    "            self.model_weights.append(model_weight)\n",
    "            \n",
    "    def predict(self, X):\n",
    "        N, _ = X.shape\n",
    "        result = np.zeros(N)\n",
    "        for wt, tree in zip(self.model_weights, self.models):\n",
    "            result += wt * tree.predict(X)\n",
    "        \n",
    "        return np.sign(result)\n",
    "\n",
    "    def score(self, testX, testY):\n",
    "        result = self.predict(testX)\n",
    "        return accuracy_score(testY[self.target], result) "
   ]
  },
  {
   "cell_type": "code",
   "execution_count": 23,
   "metadata": {
    "_cell_guid": "2bb69af3-d737-412a-9070-0e1a2b949f57",
    "_uuid": "8e69911b98a59d98fcfd761eac7c2fe2190b2793"
   },
   "outputs": [],
   "source": [
    "m = MyAdaboost(20)"
   ]
  },
  {
   "cell_type": "code",
   "execution_count": 24,
   "metadata": {
    "_cell_guid": "3934da48-f2ff-433f-afdd-3ce60a4359ca",
    "_uuid": "27f1d6151b96bd7e62038b5074ae75561b85425b"
   },
   "outputs": [
    {
     "name": "stdout",
     "output_type": "stream",
     "text": [
      "Split on feature odor_n. (3209, 2477)\n",
      "Split on feature stalk-root_c. (2813, 396)\n",
      "Termination 3 reached.\n",
      "Termination 3 reached.\n",
      "Split on feature spore-print-color_r. (2421, 56)\n",
      "Termination 3 reached.\n",
      "Termination 1 reached.\n",
      "Split on feature ring-type_p. (2876, 2810)\n",
      "Split on feature stalk-root_e. (2357, 519)\n",
      "Termination 3 reached.\n",
      "Termination 1 reached.\n",
      "Split on feature odor_f. (2619, 191)\n",
      "Termination 3 reached.\n",
      "Termination 1 reached.\n",
      "Split on feature gill-size_n. (3920, 1766)\n",
      "Split on feature stalk-surface-above-ring_k. (2895, 1025)\n",
      "Termination 3 reached.\n",
      "Termination 3 reached.\n",
      "Split on feature odor_a. (1730, 36)\n",
      "Termination 3 reached.\n",
      "Termination 1 reached.\n",
      "Split on feature spore-print-color_r. (5630, 56)\n",
      "Split on feature odor_p. (5452, 178)\n",
      "Termination 3 reached.\n",
      "Termination 1 reached.\n",
      "Termination 1 reached.\n",
      "Split on feature odor_l. (5402, 284)\n",
      "Split on feature ring-type_f. (5368, 34)\n",
      "Termination 3 reached.\n",
      "Termination 1 reached.\n",
      "Termination 1 reached.\n",
      "Split on feature odor_f. (4188, 1498)\n",
      "Split on feature odor_c. (4053, 135)\n",
      "Termination 3 reached.\n",
      "Termination 1 reached.\n",
      "Termination 1 reached.\n",
      "Split on feature cap-surface_f. (4064, 1622)\n",
      "Split on feature habitat_w. (3931, 133)\n",
      "Termination 3 reached.\n",
      "Termination 1 reached.\n",
      "Split on feature odor_c. (1557, 65)\n",
      "Termination 3 reached.\n",
      "Termination 1 reached.\n",
      "Split on feature stalk-surface-above-ring_k. (4032, 1654)\n",
      "Split on feature cap-color_w. (3350, 682)\n",
      "Termination 3 reached.\n",
      "Termination 3 reached.\n",
      "Split on feature gill-spacing_c. (107, 1547)\n",
      "Termination 1 reached.\n",
      "Termination 1 reached.\n",
      "Split on feature gill-spacing_c. (911, 4775)\n",
      "Split on feature population_c. (898, 13)\n",
      "Termination 3 reached.\n",
      "Termination 1 reached.\n",
      "Split on feature population_v. (2064, 2711)\n",
      "Termination 3 reached.\n",
      "Termination 3 reached.\n",
      "Split on feature odor_n. (3209, 2477)\n",
      "Split on feature odor_a. (2924, 285)\n",
      "Termination 3 reached.\n",
      "Termination 1 reached.\n",
      "Split on feature spore-print-color_r. (2421, 56)\n",
      "Termination 3 reached.\n",
      "Termination 1 reached.\n",
      "Split on feature odor_l. (5402, 284)\n",
      "Split on feature stalk-surface-below-ring_f. (4984, 418)\n",
      "Termination 3 reached.\n",
      "Termination 3 reached.\n",
      "Termination 1 reached.\n",
      "Split on feature population_c. (5447, 239)\n",
      "Split on feature odor_f. (3949, 1498)\n",
      "Termination 3 reached.\n",
      "Termination 1 reached.\n",
      "Split on feature stalk-root_?. (38, 201)\n",
      "Termination 1 reached.\n",
      "Termination 1 reached.\n",
      "Split on feature stalk-shape_e. (3227, 2459)\n",
      "Split on feature habitat_d. (1521, 1706)\n",
      "Termination 3 reached.\n",
      "Termination 3 reached.\n",
      "Split on feature odor_a. (2210, 249)\n",
      "Termination 3 reached.\n",
      "Termination 1 reached.\n",
      "Split on feature odor_n. (3209, 2477)\n",
      "Split on feature odor_l. (2925, 284)\n",
      "Termination 3 reached.\n",
      "Termination 1 reached.\n",
      "Split on feature stalk-surface-below-ring_y. (2440, 37)\n",
      "Termination 3 reached.\n",
      "Termination 3 reached.\n",
      "Split on feature stalk-root_b. (3044, 2642)\n",
      "Split on feature gill-size_n. (1519, 1525)\n",
      "Termination 3 reached.\n",
      "Termination 3 reached.\n",
      "Split on feature stalk-shape_e. (1490, 1152)\n",
      "Termination 3 reached.\n",
      "Termination 3 reached.\n",
      "Split on feature spore-print-color_r. (5630, 56)\n",
      "Split on feature population_c. (5391, 239)\n",
      "Termination 3 reached.\n",
      "Termination 3 reached.\n",
      "Termination 1 reached.\n",
      "Split on feature odor_n. (3209, 2477)\n",
      "Split on feature odor_a. (2924, 285)\n",
      "Termination 3 reached.\n",
      "Termination 1 reached.\n",
      "Split on feature stalk-surface-below-ring_y. (2440, 37)\n",
      "Termination 3 reached.\n",
      "Termination 3 reached.\n",
      "Split on feature stalk-root_b. (3044, 2642)\n",
      "Split on feature stalk-surface-above-ring_k. (2283, 761)\n",
      "Termination 3 reached.\n",
      "Termination 3 reached.\n",
      "Split on feature stalk-color-below-ring_w. (1754, 888)\n",
      "Termination 3 reached.\n",
      "Termination 3 reached.\n",
      "Split on feature odor_l. (5402, 284)\n",
      "Split on feature odor_a. (5117, 285)\n",
      "Termination 3 reached.\n",
      "Termination 1 reached.\n",
      "Termination 1 reached.\n",
      "Split on feature odor_p. (5508, 178)\n",
      "Split on feature spore-print-color_r. (5452, 56)\n",
      "Termination 3 reached.\n",
      "Termination 1 reached.\n",
      "Termination 1 reached.\n"
     ]
    }
   ],
   "source": [
    "m.fit(trainX, trainY)"
   ]
  },
  {
   "cell_type": "markdown",
   "metadata": {
    "_cell_guid": "15c0398d-270a-4213-b832-9a75ec97aca2",
    "_uuid": "4779fa797fa8a60ee583704a26dc6d7d1a6d67e5"
   },
   "source": [
    "#### 阶段性测试  \n",
    "- 根据测试样例，输出应该是接近于1.0的得分"
   ]
  },
  {
   "cell_type": "code",
   "execution_count": 25,
   "metadata": {
    "_cell_guid": "c43e6b45-b7e0-497f-a40e-c7a2ff37c606",
    "_uuid": "e009c37bf056534ec112c7851d2855b8c562bca6"
   },
   "outputs": [
    {
     "data": {
      "text/plain": [
       "1.0"
      ]
     },
     "execution_count": 25,
     "metadata": {},
     "output_type": "execute_result"
    }
   ],
   "source": [
    "m.score(testX, testY)"
   ]
  },
  {
   "cell_type": "code",
   "execution_count": null,
   "metadata": {
    "_cell_guid": "97aa48ba-0ea8-41ac-b91a-ab6a37d320fd",
    "_uuid": "c038a380321fad4b224e32079f9a6e4290443abe",
    "collapsed": true,
    "jupyter": {
     "outputs_hidden": true
    }
   },
   "outputs": [],
   "source": []
  },
  {
   "cell_type": "code",
   "execution_count": null,
   "metadata": {
    "_cell_guid": "a63555c8-2505-4ae3-ae69-eef8c86de7ef",
    "_uuid": "6e99bb1adfb30a4fb94615ec2cf2fcb3943af312",
    "collapsed": true,
    "jupyter": {
     "outputs_hidden": true
    }
   },
   "outputs": [],
   "source": []
  },
  {
   "cell_type": "code",
   "execution_count": null,
   "metadata": {
    "_cell_guid": "6ac05f85-76c2-4d29-8127-f8799a115839",
    "_uuid": "11a73ff6d9a91f4b6c9b8b3a722542286d2ae1c7",
    "collapsed": true,
    "jupyter": {
     "outputs_hidden": true
    }
   },
   "outputs": [],
   "source": []
  }
 ],
 "metadata": {
  "kernelspec": {
   "display_name": "Python 3",
   "language": "python",
   "name": "python3"
  },
  "language_info": {
   "codemirror_mode": {
    "name": "ipython",
    "version": 3
   },
   "file_extension": ".py",
   "mimetype": "text/x-python",
   "name": "python",
   "nbconvert_exporter": "python",
   "pygments_lexer": "ipython3",
   "version": "3.7.4"
  }
 },
 "nbformat": 4,
 "nbformat_minor": 4
}
